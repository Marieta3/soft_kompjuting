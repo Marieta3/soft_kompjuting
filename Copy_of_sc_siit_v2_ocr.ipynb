{
  "nbformat": 4,
  "nbformat_minor": 0,
  "metadata": {
    "kernelspec": {
      "display_name": "Python 3",
      "language": "python",
      "name": "python3"
    },
    "language_info": {
      "codemirror_mode": {
        "name": "ipython",
        "version": 3
      },
      "file_extension": ".py",
      "mimetype": "text/x-python",
      "name": "python",
      "nbconvert_exporter": "python",
      "pygments_lexer": "ipython3",
      "version": "3.6.8"
    },
    "colab": {
      "name": "Copy of sc-siit-v2-ocr.ipynb",
      "provenance": [],
      "toc_visible": true,
      "include_colab_link": true
    }
  },
  "cells": [
    {
      "cell_type": "markdown",
      "metadata": {
        "id": "view-in-github",
        "colab_type": "text"
      },
      "source": [
        "<a href=\"https://colab.research.google.com/github/Marieta3/soft_kompjuting_privatni/blob/master/Copy_of_sc_siit_v2_ocr.ipynb\" target=\"_parent\"><img src=\"https://colab.research.google.com/assets/colab-badge.svg\" alt=\"Open In Colab\"/></a>"
      ]
    },
    {
      "cell_type": "markdown",
      "metadata": {
        "id": "yFc1x8eILcTy",
        "colab_type": "text"
      },
      "source": [
        "# Soft Computing\n",
        "\n",
        "## Vežba 2 - OCR (Optical Character Recognition)"
      ]
    },
    {
      "cell_type": "markdown",
      "metadata": {
        "id": "x5_tDHBvLcT1",
        "colab_type": "text"
      },
      "source": [
        "Cilj ovih vežbi je implementacija sistema za optičko prepoznavanje karaktera (OCR).<br>\n",
        "Za rad sa neuronskim mrežama koristićemo <a href=\"https://keras.io/\">Keras</a> biblioteku. "
      ]
    },
    {
      "cell_type": "markdown",
      "metadata": {
        "id": "u1FK0zQoLcT2",
        "colab_type": "text"
      },
      "source": [
        "### Tok aktivnosti implementacije OCR-a"
      ]
    },
    {
      "cell_type": "markdown",
      "metadata": {
        "id": "C1MMDsg5LcT2",
        "colab_type": "text"
      },
      "source": [
        "Tok aktivnosti predstavlja korake koje je potrebno izvršiti prilikom implementacije OCR-a. "
      ]
    },
    {
      "cell_type": "markdown",
      "metadata": {
        "id": "Mjm6md6TLcT3",
        "colab_type": "text"
      },
      "source": [
        "<img src=\"https://github.com/ftn-ai-lab/sc-2019-siit/blob/master/v2-ocr/images/tok_aktivnosti.png?raw=1\"/>"
      ]
    },
    {
      "cell_type": "markdown",
      "metadata": {
        "id": "i9tp8kPrLcT4",
        "colab_type": "text"
      },
      "source": [
        "### Početak implementacije\n",
        "\n",
        "Skup paketa/biblioteka sa prethodnih vežbi smo proširili Keras bibliotekom za rad sa neuronskim mrežama."
      ]
    },
    {
      "cell_type": "code",
      "metadata": {
        "id": "LyOZoSTxLcT4",
        "colab_type": "code",
        "colab": {}
      },
      "source": [
        "import numpy as np\n",
        "import cv2 # OpenCV\n",
        "import matplotlib\n",
        "import matplotlib.pyplot as plt\n",
        "import collections"
      ],
      "execution_count": 0,
      "outputs": []
    },
    {
      "cell_type": "code",
      "metadata": {
        "id": "otV8hFPpLcT7",
        "colab_type": "code",
        "colab": {}
      },
      "source": [
        "# iscrtavanje slika u notebook-u\n",
        "%matplotlib inline\n",
        "# prikaz vecih slika\n",
        "matplotlib.rcParams['figure.figsize'] = 16,12"
      ],
      "execution_count": 0,
      "outputs": []
    },
    {
      "cell_type": "code",
      "metadata": {
        "id": "7fTM0tW-LcT9",
        "colab_type": "code",
        "colab": {}
      },
      "source": [
        "# keras\n",
        "from keras.models import Sequential\n",
        "from keras.layers.core import Dense, Activation\n",
        "from keras.optimizers import SGD"
      ],
      "execution_count": 0,
      "outputs": []
    },
    {
      "cell_type": "markdown",
      "metadata": {
        "id": "oEAO7LW6LcT_",
        "colab_type": "text"
      },
      "source": [
        "### Koraci [1, 3]\n",
        "\n",
        "Ovi koraci su detaljno objašnjeni na prethodnim vežbama."
      ]
    },
    {
      "cell_type": "code",
      "metadata": {
        "id": "hvML91DjLcUA",
        "colab_type": "code",
        "colab": {}
      },
      "source": [
        "def load_image(path):\n",
        "    return cv2.cvtColor(cv2.imread(path), cv2.COLOR_BGR2RGB)\n",
        "\n",
        "def image_gray(image):\n",
        "    return cv2.cvtColor(image, cv2.COLOR_RGB2GRAY)\n",
        "\n",
        "def image_bin(image_gs):\n",
        "    height, width = image_gs.shape[0:2]\n",
        "    image_binary = np.ndarray((height, width), dtype=np.uint8)\n",
        "    ret, image_bin = cv2.threshold(image_gs, 127, 255, cv2.THRESH_BINARY)\n",
        "    return image_bin\n",
        "\n",
        "def invert(image):\n",
        "    return 255-image\n",
        "\n",
        "def display_image(image, color=False):\n",
        "    if color:\n",
        "        plt.imshow(image)\n",
        "    else:\n",
        "        plt.imshow(image, 'gray')\n",
        "\n",
        "def dilate(image):\n",
        "    kernel = np.ones((3, 3)) # strukturni element 3x3 blok\n",
        "    return cv2.dilate(image, kernel, iterations=1)\n",
        "\n",
        "def erode(image):\n",
        "    kernel = np.ones((3, 3)) # strukturni element 3x3 blok\n",
        "    return cv2.erode(image, kernel, iterations=1)"
      ],
      "execution_count": 0,
      "outputs": []
    },
    {
      "cell_type": "markdown",
      "metadata": {
        "id": "Gpr26wOZLcUC",
        "colab_type": "text"
      },
      "source": [
        "### Korak 4 - Izdvajanje regiona od interesa\n",
        "\n",
        "U ovom koraku potrebno je izdvojiti samo regione (konture) od interesa. Potrebno je označiti regione od interesa na slici i napraviti listu slika od regiona koja će kasnije biti ulaz za neuronsku mrežu.\n",
        "\n",
        "Kako bi svi regioni koje ćemo koristiti za neuronsku mrežu biti iste veličine, implementiraćemo metodu za promenu veličine slike na 28 x 28."
      ]
    },
    {
      "cell_type": "code",
      "metadata": {
        "id": "y3INvbbpLcUD",
        "colab_type": "code",
        "colab": {}
      },
      "source": [
        "def resize_region(region):\n",
        "    return cv2.resize(region, (28, 28), interpolation=cv2.INTER_NEAREST)"
      ],
      "execution_count": 0,
      "outputs": []
    },
    {
      "cell_type": "code",
      "metadata": {
        "id": "wihs3H_OL4bd",
        "colab_type": "code",
        "colab": {}
      },
      "source": [
        "!wget -cq https://github.com/ftn-ai-lab/sc-2019-siit/blob/master/v2-ocr/images/test_resize.png?raw=true"
      ],
      "execution_count": 0,
      "outputs": []
    },
    {
      "cell_type": "code",
      "metadata": {
        "id": "hTfaQpK4MjD8",
        "colab_type": "code",
        "colab": {}
      },
      "source": [
        "plt.imshow(brojevi_gray, 'gray')"
      ],
      "execution_count": 0,
      "outputs": []
    },
    {
      "cell_type": "code",
      "metadata": {
        "id": "8Ftwl29BLcUF",
        "colab_type": "code",
        "outputId": "242c2ab5-ef57-42af-eef4-89ce9ffaafea",
        "colab": {
          "base_uri": "https://localhost:8080/",
          "height": 34
        }
      },
      "source": [
        "# test za proveru rada \n",
        "#interpolacija za reskaliranje, npr od 4 piksela na 9\n",
        "#popunjava se sredinama okoline piksela\n",
        "test_resize_img = load_image('test_resize.png?raw=true')\n",
        "test_resize_ref = (28, 28)\n",
        "test_resize_res = resize_region(test_resize_img).shape[0:2]\n",
        "print(\"Test resize passsed: \", test_resize_res == test_resize_ref)\n"
      ],
      "execution_count": 0,
      "outputs": [
        {
          "output_type": "stream",
          "text": [
            "Test resize passsed:  True\n"
          ],
          "name": "stdout"
        }
      ]
    },
    {
      "cell_type": "code",
      "metadata": {
        "id": "BCNdpGsjPXiw",
        "colab_type": "code",
        "colab": {}
      },
      "source": [
        "display_image(test_resize_img)"
      ],
      "execution_count": 0,
      "outputs": []
    },
    {
      "cell_type": "markdown",
      "metadata": {
        "id": "KBOabNiILcUH",
        "colab_type": "text"
      },
      "source": [
        "Metoda za označavanje regiona od interesa treba da označi regione od interesa na originalnoj slici i za svaki region napravi posebnu sliku dimenzija 28 x 28. Kao povratnu vrednost vraća originalnu sliku na kojoj su obeleženi regioni i niz slika koje predstavljaju regione sortirane po rastućoj vrednosti **X** ose.\n",
        "\n",
        "Za potrebe označavanja regiona iskoristićemo **boundingRect**, a za obeležavanje regiona **rectangle** metodu OpenCV-ja."
      ]
    },
    {
      "cell_type": "code",
      "metadata": {
        "id": "Uidvlr2nLcUI",
        "colab_type": "code",
        "colab": {}
      },
      "source": [
        "def select_roi(image_orig, image_bin):\n",
        "    _, contours, hierarchy = cv2.findContours(image_bin.copy(), cv2.RETR_LIST, cv2.CHAIN_APPROX_SIMPLE)\n",
        "    sorted_regions = [] # lista sortiranih regiona po X osi\n",
        "    regions_array = []\n",
        "    for contour in contours:\n",
        "        x, y, w, h = cv2.boundingRect(contour) # koordinate i velicina granicnog pravougaonika\n",
        "        area = cv2.contourArea(contour)\n",
        "        #zasto 100? 30*42 sa malim greskama\n",
        "        if area > 100 and h < 100 and h > 15 and w > 20:\n",
        "            # kopirati [y:y+h+1, x:x+w+1] sa binarne slike i smestiti u novu sliku\n",
        "            # oznaciti region pravougaonikom na originalnoj slici sa rectangle funkcijom\n",
        "            region = image_bin[y:y+h+1, x:x+w+1]\n",
        "            regions_array.append([resize_region(region), (x, y, w, h)])\n",
        "            cv2.rectangle(image_orig, (x, y), (x + w, y + h), (0, 255, 0), 2)\n",
        "    \n",
        "    regions_array = sorted(regions_array, key=lambda x: x[1][0])\n",
        "    sorted_regions = [region[0] for region in regions_array]\n",
        "    return image_orig, sorted_regions"
      ],
      "execution_count": 0,
      "outputs": []
    },
    {
      "cell_type": "markdown",
      "metadata": {
        "id": "ilR72maOLcUK",
        "colab_type": "text"
      },
      "source": [
        "### Korak 5 - Priprema podataka za obučavanje\n",
        "\n",
        "Regioni od interesa su predstavljeni vektorom čiji su elementi matrice dimenzija 28 x 28. Elementi matrica su vrednosti 0 ili 255. Potrebno je skalirati vrednosti elemenata matrice na opseg [0, 1], kako bi se pogodio linearni deo sigmoid funkcije i smanjilo vreme obučavanja. Podelimo sa 255. Nakon skaliranja, matrice je potrebno transformisati u vektor od 784 elementa."
      ]
    },
    {
      "cell_type": "code",
      "metadata": {
        "id": "Q5QnDjrLLcUL",
        "colab_type": "code",
        "colab": {}
      },
      "source": [
        "def scale_to_range(image):\n",
        "    return image/255"
      ],
      "execution_count": 0,
      "outputs": []
    },
    {
      "cell_type": "code",
      "metadata": {
        "id": "4Rb5Ea1ZLcUN",
        "colab_type": "code",
        "outputId": "82c66cce-ee00-4e3f-e42e-22b0852aabec",
        "colab": {
          "base_uri": "https://localhost:8080/",
          "height": 34
        }
      },
      "source": [
        "# test za proveru\n",
        "test_scale_matrix = np.array([[0, 255], [51, 153]], dtype='float')\n",
        "test_scale_ref = np.array([[0., 1.], [0.2, 0.6]], dtype='float')\n",
        "test_scale_res = scale_to_range(test_scale_matrix)\n",
        "print(\"Test scale passed: \", np.array_equal(test_scale_res, test_scale_ref))"
      ],
      "execution_count": 0,
      "outputs": [
        {
          "output_type": "stream",
          "text": [
            "Test scale passed:  True\n"
          ],
          "name": "stdout"
        }
      ]
    },
    {
      "cell_type": "code",
      "metadata": {
        "id": "g9qma1j8LcUP",
        "colab_type": "code",
        "colab": {}
      },
      "source": [
        "def matrix_to_vector(image):\n",
        "    return image.flatten()"
      ],
      "execution_count": 0,
      "outputs": []
    },
    {
      "cell_type": "code",
      "metadata": {
        "id": "GXlElyeTLcUR",
        "colab_type": "code",
        "outputId": "d482b2e2-ecc7-4a4b-8533-ccc56d5998ba",
        "colab": {
          "base_uri": "https://localhost:8080/",
          "height": 34
        }
      },
      "source": [
        "test_mtv = np.ndarray((28, 28))\n",
        "test_mtv_ref = (784, )\n",
        "test_mtv_res = matrix_to_vector(test_mtv).shape\n",
        "print(\"Test matrix to vector passed: \", test_mtv_res == test_mtv_ref)"
      ],
      "execution_count": 0,
      "outputs": [
        {
          "output_type": "stream",
          "text": [
            "Test matrix to vector passed:  True\n"
          ],
          "name": "stdout"
        }
      ]
    },
    {
      "cell_type": "code",
      "metadata": {
        "id": "tkuwpSsqLcUU",
        "colab_type": "code",
        "colab": {}
      },
      "source": [
        "def prepare_for_ann(regions):\n",
        "    ready_for_ann = []\n",
        "    for region in regions:\n",
        "        scale = scale_to_range(region)\n",
        "        ready_for_ann.append(matrix_to_vector(scale))\n",
        "    return ready_for_ann\n",
        "#vraca pobudjenost za svaki neuron od 0 do 1"
      ],
      "execution_count": 0,
      "outputs": []
    },
    {
      "cell_type": "markdown",
      "metadata": {
        "id": "tveWDJn4LcUY",
        "colab_type": "text"
      },
      "source": [
        "Potrebno je konvertovati alfabet u niz pogodan za obučavanje neuronske mreže, odnosno niz čiji su svi elementi 0 osim elemenata čiji je indeks jednak indeksu elementa iz alfabeta za koji formiramo niz. \n",
        "\n",
        "Primeri:\n",
        "<ul>\n",
        "    <li>Prvi element alfabeta: [1, 0, 0, 0, 0, 0, 0, 0, 0, 0],</li>\n",
        "    <li>Drugi element alfabeta: [0, 1, 0, 0, 0, 0, 0, 0, 0, 0] itd.</li>\n",
        "</ul>"
      ]
    },
    {
      "cell_type": "code",
      "metadata": {
        "id": "WP7m99HhLcUZ",
        "colab_type": "code",
        "colab": {}
      },
      "source": [
        "def convert_output(alphabet):\n",
        "    nn_outputs = []\n",
        "    for index in range(len(alphabet)):\n",
        "        output = np.zeros(len(alphabet))\n",
        "        output[index] = 1\n",
        "        nn_outputs.append(output)\n",
        "    return np.array(nn_outputs)"
      ],
      "execution_count": 0,
      "outputs": []
    },
    {
      "cell_type": "code",
      "metadata": {
        "id": "SCM1CeGwLcUb",
        "colab_type": "code",
        "outputId": "2e6ca70a-2f02-409b-e465-88ec8b6f633d",
        "colab": {
          "base_uri": "https://localhost:8080/",
          "height": 34
        }
      },
      "source": [
        "# test konverzije\n",
        "test_convert_alphabet = [0, 1, 2]\n",
        "test_convert_ref = np.array([[1, 0, 0], [0, 1, 0], [0, 0, 1]], dtype='float')\n",
        "test_convert_res = convert_output(test_convert_alphabet).astype('float')\n",
        "print(\"Test convert output: \", np.array_equal(test_convert_res, test_convert_ref))"
      ],
      "execution_count": 0,
      "outputs": [
        {
          "output_type": "stream",
          "text": [
            "Test convert output:  True\n"
          ],
          "name": "stdout"
        }
      ]
    },
    {
      "cell_type": "markdown",
      "metadata": {
        "id": "fFuMTvbYLcUd",
        "colab_type": "text"
      },
      "source": [
        "### Koraci [6, 7]\n",
        "\n",
        "Veštačka neuronska mreža se sastoji od 784 ulazna neurona, 128 neurona u skrivenom sloju i 10 neurona na izlazu. \n",
        "\n",
        "Zašto baš 784 neurona na ulazu i 10 neurona na izlazu?\n",
        "\n",
        "Regione smo transformisali prvo na matricu dimenzija 28 x 28, a zatim u vektor od 784 elementa. Broj neurona na izlazu je posledica broja znakova u alfabetu. \n",
        "\n",
        "<img src=\"https://github.com/ftn-ai-lab/sc-2019-siit/blob/master/v2-ocr/images/neuronska_mreza.png?raw=1\" />"
      ]
    },
    {
      "cell_type": "code",
      "metadata": {
        "id": "bdT7TKOYLcUd",
        "colab_type": "code",
        "colab": {}
      },
      "source": [
        "def create_ann(output_size):\n",
        "    ann = Sequential()\n",
        "    ann.add(Dense(128, input_dim=784, activation='sigmoid'))\n",
        "    ann.add(Dense(output_size, activation='sigmoid'))\n",
        "    return ann"
      ],
      "execution_count": 0,
      "outputs": []
    },
    {
      "cell_type": "code",
      "metadata": {
        "id": "P3AHWA4wLcUf",
        "colab_type": "code",
        "colab": {}
      },
      "source": [
        "def train_ann(ann, X_train, y_train, epochs):\n",
        "    X_train = np.array(X_train, np.float32) # dati ulaz\n",
        "    y_train = np.array(y_train, np.float32) # zeljeni izlazi na date ulaze\n",
        "    \n",
        "    print(\"\\nTraining started...\")\n",
        "    sgd = SGD(lr=0.01, momentum=0.9)\n",
        "    ann.compile(loss='mean_squared_error', optimizer=sgd)\n",
        "    ann.fit(X_train, y_train, epochs=epochs, batch_size=1, verbose=0, shuffle=False)\n",
        "    print(\"\\nTraining completed...\")\n",
        "    return ann"
      ],
      "execution_count": 0,
      "outputs": []
    },
    {
      "cell_type": "markdown",
      "metadata": {
        "id": "_aOeH8GDLcUh",
        "colab_type": "text"
      },
      "source": [
        "### Korak 8 - Određivanje pobedničkog neurona\n",
        "\n",
        "Pobednički neuron je neuron čija je aktivaciona vrednost najveća."
      ]
    },
    {
      "cell_type": "code",
      "metadata": {
        "id": "OgytoQdfLcUi",
        "colab_type": "code",
        "colab": {}
      },
      "source": [
        "def winner(output):\n",
        "    return max(enumerate(output), key=lambda x: x[1])[0]"
      ],
      "execution_count": 0,
      "outputs": []
    },
    {
      "cell_type": "code",
      "metadata": {
        "id": "jeAHnnlRLcUm",
        "colab_type": "code",
        "outputId": "840ce27c-e632-420e-bd7d-78dbbb6a1f4b",
        "colab": {
          "base_uri": "https://localhost:8080/",
          "height": 34
        }
      },
      "source": [
        "# test winner\n",
        "test_winner_output = [0., 0.2, 0.3, 0.95]\n",
        "test_winner_ref = 3\n",
        "test_winner_res = winner(test_winner_output)\n",
        "print(\"Test winner passed: \", test_winner_res == test_winner_ref)"
      ],
      "execution_count": 0,
      "outputs": [
        {
          "output_type": "stream",
          "text": [
            "Test winner passed:  True\n"
          ],
          "name": "stdout"
        }
      ]
    },
    {
      "cell_type": "markdown",
      "metadata": {
        "id": "7yLAJCSlLcUo",
        "colab_type": "text"
      },
      "source": [
        "### Korak 9 - Prikaz rezultata\n",
        "\n",
        "Prikaz rezultata prepoznavanja. Za svaki rezultat je potrebno pronaći indeks pobedničkog neurona koji ujedno predstavlja i indeks prepoznatog elementa u alfabetu. Karakter se dodaje u rezultujuću listu."
      ]
    },
    {
      "cell_type": "code",
      "metadata": {
        "id": "YHEFHZddLcUp",
        "colab_type": "code",
        "colab": {}
      },
      "source": [
        "def display_result(outputs, alphabet):\n",
        "    result = []\n",
        "    for output in outputs:\n",
        "        result.append(alphabet[winner(output)])\n",
        "    return result"
      ],
      "execution_count": 0,
      "outputs": []
    },
    {
      "cell_type": "markdown",
      "metadata": {
        "id": "iIHYoKaTLcUs",
        "colab_type": "text"
      },
      "source": [
        "### TODO 1:\n",
        "\n",
        "* Učitati sliku za obučavanje veštačke neuronske mreže: **images/brojevi.png**.\n",
        "* Transformisati sliku u binarni oblik i označiti regione od interesa. Prikazati sliku sa označenim regionima od interesa."
      ]
    },
    {
      "cell_type": "code",
      "metadata": {
        "id": "ee0Yb-mmLcUs",
        "colab_type": "code",
        "colab": {}
      },
      "source": [
        "brojevi_img = load_image('brojevi.png?raw=true')\n",
        "brojevi_gray = image_gray(brojevi_img)\n",
        "brojevi_bin = image_bin(brojevi_gray)\n",
        "brojevi_bin = erode(dilate(brojevi_bin))\n"
      ],
      "execution_count": 0,
      "outputs": []
    },
    {
      "cell_type": "code",
      "metadata": {
        "id": "hEoMgBU0YBZt",
        "colab_type": "code",
        "colab": {}
      },
      "source": [
        "selected_regions, numbers = select_roi(brojevi_img, brojevi_bin)\n"
      ],
      "execution_count": 0,
      "outputs": []
    },
    {
      "cell_type": "code",
      "metadata": {
        "id": "Qz9zezeKateQ",
        "colab_type": "code",
        "outputId": "f0b6c95c-1e57-4082-d56e-06d832a5468a",
        "colab": {
          "base_uri": "https://localhost:8080/",
          "height": 508
        }
      },
      "source": [
        "display_image(selected_regions)"
      ],
      "execution_count": 0,
      "outputs": [
        {
          "output_type": "display_data",
          "data": {
            "image/png": "[encoded data removed]",
            "text/plain": [
              "<Figure size 1152x864 with 1 Axes>"
            ]
          },
          "metadata": {
            "tags": []
          }
        }
      ]
    },
    {
      "cell_type": "markdown",
      "metadata": {
        "id": "B98WiUPULcUu",
        "colab_type": "text"
      },
      "source": [
        "### TODO 2: \n",
        "\n",
        "* Definisati alfabet i izvršiti treniranje veštačke neuronske mreže."
      ]
    },
    {
      "cell_type": "code",
      "metadata": {
        "id": "dD--vAJ_LcUv",
        "colab_type": "code",
        "colab": {}
      },
      "source": [
        "alfabet = [0, 1, 2, 3, 4, 5, 6, 7, 8, 9]\n",
        "inputs =prepare_for_ann(numbers)\n",
        "outputs = convert_output(alfabet)\n",
        "ann = create_ann(output_size=10)\n",
        "ann = train_ann(ann, inputs, outputs, epochs=128)\n"
      ],
      "execution_count": 0,
      "outputs": []
    },
    {
      "cell_type": "markdown",
      "metadata": {
        "id": "oqi7Tv3cLcUx",
        "colab_type": "text"
      },
      "source": [
        "### TODO 3: \n",
        "\n",
        "* Verifikovati obučenost neuronske mreže uz pomoć trećeg i četvrtog ulaznog vektora (brojevi 2 i 3). "
      ]
    },
    {
      "cell_type": "code",
      "metadata": {
        "id": "6KGskhRzLcUx",
        "colab_type": "code",
        "outputId": "5ef32a46-9848-4e0a-f5dd-81d9c7b7fc5f",
        "colab": {
          "base_uri": "https://localhost:8080/",
          "height": 85
        }
      },
      "source": [
        "result = ann.predict(np.array(inputs[2:4], np.float32))\n",
        "print(\"result\")\n",
        "print(\"\\n\")\n",
        "print(display_result(result, alfabet))\n"
      ],
      "execution_count": 0,
      "outputs": [
        {
          "output_type": "stream",
          "text": [
            "result\n",
            "\n",
            "\n",
            "[2, 3]\n"
          ],
          "name": "stdout"
        }
      ]
    },
    {
      "cell_type": "markdown",
      "metadata": {
        "id": "_M-mqkVfLcUz",
        "colab_type": "text"
      },
      "source": [
        "### TODO 4:\n",
        "\n",
        "* Učitati sliku za testiranje rada OCR-a: **images/test.png**.\n",
        "* Transformisati sliku u oblik pogodan za ulaz u neuronsku mrežu.\n",
        "* Prikazati rezultate predikcije kao i sliku sa označenim regionima od interesa."
      ]
    },
    {
      "cell_type": "code",
      "metadata": {
        "id": "M5zb3ELtLcU0",
        "colab_type": "code",
        "colab": {}
      },
      "source": [
        ""
      ],
      "execution_count": 0,
      "outputs": []
    },
    {
      "cell_type": "code",
      "metadata": {
        "id": "ejh0H6jpLcU2",
        "colab_type": "code",
        "colab": {}
      },
      "source": [
        ""
      ],
      "execution_count": 0,
      "outputs": []
    },
    {
      "cell_type": "markdown",
      "metadata": {
        "id": "MAov4hgNLcU4",
        "colab_type": "text"
      },
      "source": [
        "### K - Means"
      ]
    },
    {
      "cell_type": "markdown",
      "metadata": {
        "id": "GDDb9qfkLcU5",
        "colab_type": "text"
      },
      "source": [
        "Kada je reč o čitanju stvarnog teksta, deo problema predstavlja i određivanje granica između reči i redova u tekstu. Kao rešenje moguće je koristiti K-Means algoritam i klasterizovati razmak između regiona u dva klastera:  \n",
        "* Razmak između slova u reči i  \n",
        "* Razmak između reči.\n",
        "\n",
        "Koristićemo <a href=\"http://scikit-learn.org/stable/modules/generated/sklearn.cluster.KMeans.html\">scikit-learn</a> implementaciju K-Means algoritma."
      ]
    },
    {
      "cell_type": "code",
      "metadata": {
        "id": "Q6wTxv_vLcU5",
        "colab_type": "code",
        "colab": {}
      },
      "source": [
        "from sklearn.cluster import KMeans"
      ],
      "execution_count": 0,
      "outputs": []
    },
    {
      "cell_type": "markdown",
      "metadata": {
        "id": "UhAPLzmlLcU8",
        "colab_type": "text"
      },
      "source": [
        "Potrebno je prvo modifikovati metodu za određivanje regiona od interesa tako da vraća i vrednosti rastojanja po X osi, između svih regiona."
      ]
    },
    {
      "cell_type": "code",
      "metadata": {
        "id": "U39Vi8M_LcU8",
        "colab_type": "code",
        "colab": {}
      },
      "source": [
        "def select_roi_with_distances(image_orig, image_bin):\n",
        "    contours, hierarchy = cv2.findContours(image_bin.copy(), cv2.RETR_EXTERNAL, cv2.CHAIN_APPROX_SIMPLE)\n",
        "    regions_array = []\n",
        "    for contour in contours:\n",
        "        x, y, w, h = cv2.boundingRect(contour)\n",
        "        region = image_bin[y:y+h+1, x:x+w+1]\n",
        "        regions_array.append([resize_region(region), (x, y, w, h)])\n",
        "        cv2.rectangle(image_orig, (x, y), (x+w, y+h), (0, 255, 0), 2)\n",
        "    \n",
        "    regions_array = sorted(regions_array, key=lambda x: x[1][0])\n",
        "    \n",
        "    sorted_regions = [region[0] for region in regions_array]\n",
        "    sorted_rectangles = [region[1] for region in regions_array]\n",
        "    region_distances = []\n",
        "    # izdvojiti sortirane parametre opisujucih pravougaonika\n",
        "    # izracunati rastojanja izmedju svih susednih regiona po X osi i dodati ih u niz rastojanja\n",
        "    for index in range(0, len(sorted_rectangles) - 1):\n",
        "        current = sorted_rectangles[index]\n",
        "        next_rect = sorted_rectangles[index + 1]\n",
        "        distance = next_rect[0] - (current[0] + current[2]) # x_next - (x_current + w_current)\n",
        "        region_distances.append(distance)\n",
        "    \n",
        "    return image_orig, sorted_regions, region_distances"
      ],
      "execution_count": 0,
      "outputs": []
    },
    {
      "cell_type": "markdown",
      "metadata": {
        "id": "JFj2lFHVLcU-",
        "colab_type": "text"
      },
      "source": [
        "Zatim se vrši modifikacija metode za prikaz rezultata, tako da formira string sa razmacima između reči. Metodi je neophodno proslediti obučen KMeans objekat kako bi odredila koja grupa rastojanja predstavlja razmak između reči, a koja između slova, i na osnovu toga formirala string od elemenata pronađenih sa slike. "
      ]
    },
    {
      "cell_type": "code",
      "metadata": {
        "id": "OAGb_EexLcU-",
        "colab_type": "code",
        "colab": {}
      },
      "source": [
        "def display_result_with_spaces(outputs, alphabet, k_means):\n",
        "    # odredjivanje indeksa grupe koja odgovara rastojanju izmedju reci\n",
        "    w_space_group = max(enumerate(k_means.cluster_centers_), key=lambda x: x[1])[0]\n",
        "    result = alphabet[winner(outputs[0])]\n",
        "    # iterativno dodavanje prepoznatih elemenata\n",
        "    # dodavanje space karaktera ako je rastojanje izmedju dva slova odgovara rastojanju izmedju reci\n",
        "    for idx, output in enumerate(outputs[1:, :]):\n",
        "        if k_means.labels_[idx] == w_space_group:\n",
        "            result += ' '\n",
        "        result += alphabet[winner(output)]\n",
        "    return result"
      ],
      "execution_count": 0,
      "outputs": []
    },
    {
      "cell_type": "markdown",
      "metadata": {
        "id": "ti5nnz0ULcVA",
        "colab_type": "text"
      },
      "source": [
        "### TODO 5:  \n",
        "\n",
        "* Učitati sliku za obučavanje veštačke neuronske mreže: **images/alphabet.png**.  \n",
        "* Prikazati sliku sa označenim regionima od interesa."
      ]
    },
    {
      "cell_type": "code",
      "metadata": {
        "id": "FazYNEeFLcVB",
        "colab_type": "code",
        "colab": {}
      },
      "source": [
        "!wget -cq https://github.com/ftn-ai-lab/sc-2019-siit/blob/master/v2-ocr/images/alphabet.png?raw=true"
      ],
      "execution_count": 0,
      "outputs": []
    },
    {
      "cell_type": "code",
      "metadata": {
        "id": "rqqfeVDNeec2",
        "colab_type": "code",
        "colab": {}
      },
      "source": [
        "alf_img = load_image('alphabet.png?raw=true')"
      ],
      "execution_count": 0,
      "outputs": []
    },
    {
      "cell_type": "code",
      "metadata": {
        "id": "raQAHb35eois",
        "colab_type": "code",
        "outputId": "8a88296b-c635-4ebf-ba34-dc7f77088aa8",
        "colab": {
          "base_uri": "https://localhost:8080/",
          "height": 352
        }
      },
      "source": [
        "display_image(alf_img)"
      ],
      "execution_count": 0,
      "outputs": [
        {
          "output_type": "display_data",
          "data": {
            "image/png": "[encoded data removed]",
            "text/plain": [
              "<Figure size 1152x864 with 1 Axes>"
            ]
          },
          "metadata": {
            "tags": []
          }
        }
      ]
    },
    {
      "cell_type": "code",
      "metadata": {
        "id": "l1Nl5B4Ye_Jj",
        "colab_type": "code",
        "colab": {}
      },
      "source": [
        "alf_gray = image_gray(alf_img)\n",
        "alf_bin = image_bin(alf_gray)\n",
        "alf_bin = erode(alf_bin)"
      ],
      "execution_count": 0,
      "outputs": []
    },
    {
      "cell_type": "code",
      "metadata": {
        "id": "THZJEpPlfNZj",
        "colab_type": "code",
        "colab": {}
      },
      "source": [
        "selected_regions_alf, letters_alf = select_roi(alf_img, alf_bin)"
      ],
      "execution_count": 0,
      "outputs": []
    },
    {
      "cell_type": "code",
      "metadata": {
        "id": "eeICqM7vfUyS",
        "colab_type": "code",
        "outputId": "ccdad59d-cc22-4a35-c5fb-ee63fee12013",
        "colab": {
          "base_uri": "https://localhost:8080/",
          "height": 352
        }
      },
      "source": [
        "display_image(selected_regions_alf)"
      ],
      "execution_count": 0,
      "outputs": [
        {
          "output_type": "display_data",
          "data": {
            "image/png": "[encoded data removed]",
            "text/plain": [
              "<Figure size 1152x864 with 1 Axes>"
            ]
          },
          "metadata": {
            "tags": []
          }
        }
      ]
    },
    {
      "cell_type": "markdown",
      "metadata": {
        "id": "c9JqJCwdLcVG",
        "colab_type": "text"
      },
      "source": [
        "### TODO 6:  \n",
        "\n",
        "* Definisati alfabet i izvršiti treniranje veštačke neuronske mreže"
      ]
    },
    {
      "cell_type": "code",
      "metadata": {
        "id": "xsLfhnk1LcVG",
        "colab_type": "code",
        "outputId": "34b4d619-f351-41ba-8995-f16f4f542fbb",
        "colab": {
          "base_uri": "https://localhost:8080/",
          "height": 85
        }
      },
      "source": [
        "alf = [\"A\", \"B\", \"C\", \"D\", \"E\", \"F\", \"G\", \"H\", \"I\", \"J\", \"K\", \"L\", \"M\", \"N\", \"O\", \"P\", \"Q\", \"R\", \"S\", \"T\", \"U\", \"V\", \"W\", \"X\", \"Y\", \"Z\"]\n",
        "inputs =prepare_for_ann(letters_alf)\n",
        "outputs = convert_output(alf)\n",
        "ann = create_ann(output_size=26)\n",
        "ann = train_ann(ann, inputs, outputs, epochs=128)\n"
      ],
      "execution_count": 0,
      "outputs": [
        {
          "output_type": "stream",
          "text": [
            "\n",
            "Training started...\n",
            "\n",
            "Training completed...\n"
          ],
          "name": "stdout"
        }
      ]
    },
    {
      "cell_type": "code",
      "metadata": {
        "id": "G1RI5w1XiWx7",
        "colab_type": "code",
        "outputId": "1c47ad1d-ada1-4556-ab58-186907c7bbd6",
        "colab": {
          "base_uri": "https://localhost:8080/",
          "height": 85
        }
      },
      "source": [
        "result = ann.predict(np.array(inputs, np.float32))\n",
        "print(\"result\")\n",
        "print(\"\\n\")\n",
        "print(display_result(result, alf))"
      ],
      "execution_count": 0,
      "outputs": [
        {
          "output_type": "stream",
          "text": [
            "result\n",
            "\n",
            "\n",
            "['A', 'B', 'C', 'D', 'F', 'F', 'C', 'U', 'I', 'N', 'Q', 'Q', 'M', 'Q', 'F', 'P', 'Q', 'X', 'S', 'T', 'U', 'V', 'W', 'X', 'Y', 'Z']\n"
          ],
          "name": "stdout"
        }
      ]
    },
    {
      "cell_type": "markdown",
      "metadata": {
        "id": "KgXbGVm5LcVI",
        "colab_type": "text"
      },
      "source": [
        "### TODO 7:  \n",
        "\n",
        "* Učitati sliku za testiranje: **images/lorem_impsum.png**.  \n",
        "* Odrediti regione od interesa i rastojanja među njima.  \n",
        "* Iskoristiti KMeans za grupisanje rastojanja u dve grupe.  \n",
        "* Prikazati rezultat predikcije i sliku sa označenim regionima od interesa."
      ]
    },
    {
      "cell_type": "code",
      "metadata": {
        "id": "-ulFRxU0LcVI",
        "colab_type": "code",
        "colab": {}
      },
      "source": [
        "!wget -cq https://github.com/ftn-ai-lab/sc-2019-siit/blob/master/v2-ocr/images/lorem_ipsum.png?raw=true "
      ],
      "execution_count": 0,
      "outputs": []
    },
    {
      "cell_type": "code",
      "metadata": {
        "id": "vC7SHNRmLcVK",
        "colab_type": "code",
        "colab": {}
      },
      "source": [
        "lorem_img = load_image('lorem_ipsum.png?raw=true')"
      ],
      "execution_count": 0,
      "outputs": []
    },
    {
      "cell_type": "markdown",
      "metadata": {
        "id": "2jVFOoOGLcVM",
        "colab_type": "text"
      },
      "source": [
        "## Kompleksniji OCR\n",
        "\n",
        "OCR sistemi vrše optičko prepoznavanje tekstualnih sadržaja sa fotografija, gde je fotografija ulazni parametar sistema. Performanse sistema će u mnogome zavisiti od pretpostavke o ulaznoj fotografiji. Pošto se takva fotografija pravi u realnom okruženju, normalno je za očekivati dosta spoljnih uticaja. Ukoliko pretpostavimo da ulazna fotografija neće biti pod uticajem određenog broja faktora iz okruženja sistem može da se pojednostavi. Recimo, kamere u industrijskim pogonima prave fotografije u okruženju u kome se nivo osvetljenja može kontrolisati, uređaj za fotografisanje je uvek isti i pravi fotografije koje su \"sličnog\" oblika.\n",
        "\n",
        "Do sada smo OCR sistem implementirali uz pretpostavku da je fotografija idealna i da je tekstualni sadržaj na njoj prost. Međutim, to najčešće nije slučaj. Ulazna fotografija će obično izgledati ovako:\n",
        "\n",
        "<img src=\"https://github.com/ftn-ai-lab/sc-2019-siit/blob/master/v2-ocr/images/cifre.jpg?raw=1\"/>"
      ]
    },
    {
      "cell_type": "markdown",
      "metadata": {
        "id": "VqYDwOkTLcVM",
        "colab_type": "text"
      },
      "source": [
        "### Obrada digitalne slike\n",
        "\n",
        "Obrada digitalne slike predstavlja prvi skup aktivnosti OCR sistemu. Cilj ovog skupa aktivnosti jeste prilagođavanje ulazne fotografije da bi se nad njom mogla vršiti analiza sadržaja. Obrada digitalne slike može biti dosta složen proces, pošto bi on trebao biti u stanju da obradi bilo kakvu ulaznu fotografiju. Proces analize digitalne slike će biti mnogo jednostavniji ukoliko se fotografija prethodno dobro obradi i ukloni većina šuma."
      ]
    },
    {
      "cell_type": "markdown",
      "metadata": {
        "id": "tcpXQEL9LcVN",
        "colab_type": "text"
      },
      "source": [
        "#### Neuniformna osvetljenost fotografije\n",
        "\n",
        "Cilj segmentacije jeste klasifikovanje piksela fotografije u one koji pripadaju sadržaju i one koji pripadaju pozadini. Do sada smo za segmentaciju koristili metode bazirane na računanju praga - **threshold**. Ukoliko se za celu fotografiju pronađe jedan prag segmentacije, problem se javlja ako su delovi fotografije osetno manje ili više osvetljeni od ostatka fotografije. Ovaj problem se može rešiti uz korišćenje adaptivnog threshold-a. Na taj način se može rešiti problem neuniformna osvetljenosti fotografije."
      ]
    },
    {
      "cell_type": "code",
      "metadata": {
        "id": "21Ti4wVpLcVO",
        "colab_type": "code",
        "colab": {}
      },
      "source": [
        "image_color = load_image('images/cifre2.jpg')\n",
        "img = image_bin(image_gray(image_color))\n",
        "display_image(img)"
      ],
      "execution_count": 0,
      "outputs": []
    },
    {
      "cell_type": "markdown",
      "metadata": {
        "id": "9KbVoIAGLcVQ",
        "colab_type": "text"
      },
      "source": [
        "#### Šum na fotografiji nakon segmentacije\n",
        "\n",
        "Proces segmentacije će pokušati da klasifikuje piksele tako da ih obeleži da pripadaju sadržaju ili pozadini, ali ne mora da znači da će u tome biti 100% uspešan. Na fotografiji koja je rezultat procesa segmentacije može postojati šum koji može znatno otežati analizu ovakve fotografije u narednim koracima OCR-a. Zbog toga je takav šum potrebno ukloniti u što većoj meri u ranim fazama."
      ]
    },
    {
      "cell_type": "markdown",
      "metadata": {
        "id": "VbZTe4rnLcVQ",
        "colab_type": "text"
      },
      "source": [
        "### Analiza digitalne slike\n",
        "\n",
        "Analiza digitalne slike počinje kreiranjem skupa regiona(kontura) sa binarne slike. Takav skup regiona je potrebno analizirati i izvršiti njihovo prepoznavanje. Problem predstavlja činjenica da region ne mora izgledati uvek isto, iako predstavlja isti karakter. Jedan primer takve situacije jeste rotacija."
      ]
    },
    {
      "cell_type": "markdown",
      "metadata": {
        "id": "V8MNGV6gLcVR",
        "colab_type": "text"
      },
      "source": [
        "#### Zarotirani simboli na fotografiji\n",
        "\n",
        "Svaki region se skalira na dimenzije 28 x 28 i formira matricu, a nakon toga se pretvara u vektor od 784 elementa. Očigledno je da će takva matrica izgledati drugačije ukoliko je region zarotiran, što će rezultovati činjenicom da ćemo na ulaz neuronske mreže dovesti ulazni vektor koji će jako loše opisivati region koji bi on trebalo da predstavlja. Posledica će biti loša predikcija od strane veštačke neuronske mreže. Zbog toga je regione potrebno zarotirati tako da se oni postave u prirodan položaj."
      ]
    },
    {
      "cell_type": "markdown",
      "metadata": {
        "id": "XwEYneOuLcVS",
        "colab_type": "text"
      },
      "source": [
        "Tačke regiona je potrebno rotirati oko tačke **(c<sub>x</sub>, c<sub>y</sub>)** za zadati ugao **$\\alpha = \\pi / 2 - |\\theta|$** gde su **c<sub>x</sub>, c<sub>y</sub> i $\\theta$** parametri dobijeni iz osobina regiona. Na ovaj način treba da se dobiju slike regiona koje su \"relativno\" vertikalne. "
      ]
    },
    {
      "cell_type": "markdown",
      "metadata": {
        "id": "R_wAsCpMLcVS",
        "colab_type": "text"
      },
      "source": [
        "Formula za rotiranje tačke sa koordinatama **(x,y)** za ugao **$\\alpha$** oko tačke sa koordinatama **(c<sub>x</sub>, c<sub>y</sub>)**:\n",
        "<img src=\"https://github.com/ftn-ai-lab/sc-2019-siit/blob/master/v2-ocr/images/rotacija.jpg?raw=1\"/>"
      ]
    },
    {
      "cell_type": "markdown",
      "metadata": {
        "id": "kjQ_20UoLcVT",
        "colab_type": "text"
      },
      "source": [
        "#### Simboli koji se sastoje iz više regiona\n",
        "\n",
        "Činjenica da se jedan simbol ne mora sastojati iz samo jednog regiona nama može predstavljati problem (npr: i, ž, ć...). Zbog toga je potrebno izvršiti spajanje kukica i kvačica u okolini simbola pre slanja podataka na predikciju neuronskoj mreži.\n",
        "\n",
        "<img src=\"https://github.com/ftn-ai-lab/sc-2019-siit/blob/master/v2-ocr/images/slovo.jpg?raw=1\"/>"
      ]
    },
    {
      "cell_type": "markdown",
      "metadata": {
        "id": "3oH9_QiKLcVT",
        "colab_type": "text"
      },
      "source": [
        "Nakon spajanja kukica i kvačica na red dolazi skaliranje regiona na dimenzije 28 x 28. Region je sada niz tačaka čije su koordinate apsolutne koordinate na fotografiji sa koje su regioni preuzeti. Kako bi se isekao pravougaonik oko regiona potrebno je proći kroz sve tačke regiona i koordinate svake od njih prebaciti iz apsolutnih u relativne koordinate u odnosu na poziciju tačke unutar regiona."
      ]
    },
    {
      "cell_type": "markdown",
      "metadata": {
        "id": "mwU6xn2SLcVU",
        "colab_type": "text"
      },
      "source": [
        "## Zadaci"
      ]
    },
    {
      "cell_type": "markdown",
      "metadata": {
        "id": "uTl2VQZ5LcVV",
        "colab_type": "text"
      },
      "source": [
        "### Zadatak 1 - Kalkulator\n",
        "\n",
        "Implementirati OCR za kalkulator. Obučiti sistem na **images/kalkulator_alfabet.png**. Testirati na:\n",
        "* **images/sabiranje.png**\n",
        "* **images/oduzimanje.png**\n",
        "* **images/slozen_izraz.png**"
      ]
    },
    {
      "cell_type": "markdown",
      "metadata": {
        "id": "BMf45vD3LcVV",
        "colab_type": "text"
      },
      "source": [
        "### Zadatak 2 - Redovi\n",
        "\n",
        "Implementirati OCR koji će moći čitati tekst sa više redova. Obučiti sistem na **images/alphabet.png**. Testirati na: **images/redovi.png**."
      ]
    },
    {
      "cell_type": "markdown",
      "metadata": {
        "id": "085C2O8iLcVW",
        "colab_type": "text"
      },
      "source": [
        "### Zadatak 3 - Kukice\n",
        "\n",
        "Implementirati OCR koji će moći čitati simbole koji se sastoje iz više regiona. Obučiti sistem na **images/obucavanje.jpg**. Testirati na **images/testiranje.jpg**."
      ]
    },
    {
      "cell_type": "code",
      "metadata": {
        "id": "XxsmLeMlLcVX",
        "colab_type": "code",
        "colab": {}
      },
      "source": [
        ""
      ],
      "execution_count": 0,
      "outputs": []
    }
  ]
}