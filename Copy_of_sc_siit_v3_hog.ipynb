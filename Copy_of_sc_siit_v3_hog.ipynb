{
  "nbformat": 4,
  "nbformat_minor": 0,
  "metadata": {
    "kernelspec": {
      "display_name": "Python 3",
      "language": "python",
      "name": "python3"
    },
    "language_info": {
      "codemirror_mode": {
        "name": "ipython",
        "version": 3
      },
      "file_extension": ".py",
      "mimetype": "text/x-python",
      "name": "python",
      "nbconvert_exporter": "python",
      "pygments_lexer": "ipython3",
      "version": "3.6.8"
    },
    "colab": {
      "name": "Copy of sc-siit-v3-hog.ipynb",
      "provenance": [],
      "collapsed_sections": [],
      "toc_visible": true,
      "include_colab_link": true
    }
  },
  "cells": [
    {
      "cell_type": "markdown",
      "metadata": {
        "id": "view-in-github",
        "colab_type": "text"
      },
      "source": [
        "<a href=\"https://colab.research.google.com/github/Marieta3/soft_kompjuting_privatni/blob/master/Copy_of_sc_siit_v3_hog.ipynb\" target=\"_parent\"><img src=\"https://colab.research.google.com/assets/colab-badge.svg\" alt=\"Open In Colab\"/></a>"
      ]
    },
    {
      "cell_type": "markdown",
      "metadata": {
        "id": "DAks-IbdPoz5",
        "colab_type": "text"
      },
      "source": [
        "# Soft Computing\n",
        "\n",
        "## Vežba 3 - HOG"
      ]
    },
    {
      "cell_type": "markdown",
      "metadata": {
        "id": "CH-n4gfaPoz7",
        "colab_type": "text"
      },
      "source": [
        "## Histogram of Oriented Gradients (HOG)"
      ]
    },
    {
      "cell_type": "markdown",
      "metadata": {
        "id": "iYcrHRGyPoz8",
        "colab_type": "text"
      },
      "source": [
        "Jedan od najpopularnijih postupaka za izdvajanje osobina (eng. *feature extraction*) sa digitalne slike. Formalno, HOG je nešto što se zove **deskriptor slike** (eng. *image descriptor*), koji predstavlja opis vizuelnih osobina slike. Iako je predstavljen pre više od jedne dekade, tačnije 2005. godine u radu <a href=\"http://lear.inrialpes.fr/people/triggs/pubs/Dalal-cvpr05.pdf\">Histogram of Oriented Gradients for Human Detection</a>, HOG je deskriptor koji se i dan-danas vrlo često koristi za probleme detekcije i prepoznavanja objekata na slikama."
      ]
    },
    {
      "cell_type": "markdown",
      "metadata": {
        "id": "TOkhhKCgPoz9",
        "colab_type": "text"
      },
      "source": [
        "<img src=\"https://github.com/ftn-ai-lab/sc-2019-siit/blob/master/v3-hog/images/hog_diagram.png?raw=1\">"
      ]
    },
    {
      "cell_type": "markdown",
      "metadata": {
        "id": "M1ODQZXrPoz-",
        "colab_type": "text"
      },
      "source": [
        "## Support Vector Machine (SVM)"
      ]
    },
    {
      "cell_type": "markdown",
      "metadata": {
        "id": "RuQDA4qjPoz-",
        "colab_type": "text"
      },
      "source": [
        "SVM je model nadgledanog mašinskog učenja, koji se može koristiti za probleme klasifikacije i regresije. Ugrubo, SVM klasifikator konstruiše hiperravan koja \"najbolje\" razdvaja klase podataka, a ova \"najbolja\" hiperravan je zapravo ona koja maksimizuje marginu između podataka različitih klasa.\n",
        "\n",
        "U svom osnovnom obliku, SVM je linearni klasifikator, tj. može vrlo efikasno da pronađe hiperravan koja maksimizuje marginu između linearno separabilnih podataka. Međutim, korišćenjem tzv. kernel trika (eng. *kernel trick*), moguće je konstruisati SVM za klasifikaciju podataka koji nisu linearno separabilni - tačnije, pomoću kernela se ulazni podaci zapravo mapiraju na neki višedimenzionalni prostor gde ti podaci postanu linearno separabilni. "
      ]
    },
    {
      "cell_type": "markdown",
      "metadata": {
        "id": "o3-FX5cuPoz_",
        "colab_type": "text"
      },
      "source": [
        "<img src=\"https://github.com/ftn-ai-lab/sc-2019-siit/blob/master/v3-hog/images/svm.png?raw=1\">"
      ]
    },
    {
      "cell_type": "markdown",
      "metadata": {
        "id": "umlHF2gmPo0A",
        "colab_type": "text"
      },
      "source": [
        "## Detekcija automobila\n",
        "\n",
        "HOG i SVM ćemo iskoristiti kako bi rešili problem detekcije automobila na slikama iz <a href=\"http://cogcomp.org/Data/Car/\">UIUC Image Database for Car Detection</a> skupa podataka. \n",
        "\n",
        "Trening skup **data/CarData/TrainImages** sadrži 1050 slika (pozitivnih i negativnih primera) dimenzija 100 x 40 za obučavanje i validaciju deskriptora i klasifikatora.\n",
        "\n",
        "Test skup **data/CarData/TestImages** sadrži 170 slika različitih dimenzija za evaluaciju rada deskriptora i klasifikatora.\n",
        "\n",
        "Rezultati rada deskriptora i klasifikatora na testnom skupu podataka se mogu uporediti sa tačnim lokacijama automobila koji se nalaze u **data/CarData/trueLocations.txt**."
      ]
    },
    {
      "cell_type": "markdown",
      "metadata": {
        "id": "z7sPJhviPo0B",
        "colab_type": "text"
      },
      "source": [
        "### Obučavanje"
      ]
    },
    {
      "cell_type": "code",
      "metadata": {
        "id": "8MewJiWAPo0B",
        "colab_type": "code",
        "colab": {}
      },
      "source": [
        "import os\n",
        "import numpy as np\n",
        "import cv2 # OpenCV\n",
        "from sklearn.svm import SVC # SVM klasifikator\n",
        "from sklearn.metrics import accuracy_score\n",
        "from sklearn.model_selection import train_test_split\n",
        "from sklearn.neighbors import KNeighborsClassifier # KNN\n",
        "import matplotlib.pyplot as plt\n",
        "%matplotlib inline"
      ],
      "execution_count": 0,
      "outputs": []
    },
    {
      "cell_type": "code",
      "metadata": {
        "id": "L56ADSjXPo0E",
        "colab_type": "code",
        "colab": {}
      },
      "source": [
        "def load_image(path):\n",
        "    return cv2.cvtColor(cv2.imread(path), cv2.COLOR_BGR2GRAY)\n",
        "\n",
        "def display_image(image):\n",
        "    plt.imshow(image, 'gray')"
      ],
      "execution_count": 0,
      "outputs": []
    },
    {
      "cell_type": "markdown",
      "metadata": {
        "id": "ZZzWx5_zPo0G",
        "colab_type": "text"
      },
      "source": [
        "#### Primer pozitivnog uzorka - jeste automobil"
      ]
    },
    {
      "cell_type": "code",
      "metadata": {
        "id": "jfYVustyT2NM",
        "colab_type": "code",
        "outputId": "417fba2f-3a7a-4f8f-de76-f8f560fea263",
        "colab": {
          "base_uri": "https://localhost:8080/",
          "height": 136
        }
      },
      "source": [
        "!git clone https://github.com/ftn-ai-lab/sc-2019-siit.git"
      ],
      "execution_count": 0,
      "outputs": [
        {
          "output_type": "stream",
          "text": [
            "Cloning into 'sc-2019-siit'...\n",
            "remote: Enumerating objects: 1821, done.\u001b[K\n",
            "remote: Counting objects: 100% (1821/1821), done.\u001b[K\n",
            "remote: Compressing objects: 100% (1644/1644), done.\u001b[K\n",
            "remote: Total 1821 (delta 8), reused 1800 (delta 1), pack-reused 0\u001b[K\n",
            "Receiving objects: 100% (1821/1821), 35.89 MiB | 11.72 MiB/s, done.\n",
            "Resolving deltas: 100% (8/8), done.\n"
          ],
          "name": "stdout"
        }
      ]
    },
    {
      "cell_type": "code",
      "metadata": {
        "id": "NXtsVkwzPo0H",
        "colab_type": "code",
        "outputId": "e8af56d8-637f-4304-d74f-d0bfb83c8233",
        "colab": {
          "base_uri": "https://localhost:8080/",
          "height": 184
        }
      },
      "source": [
        "ipos = load_image('sc-2019-siit/v3-hog/data/CarData/TrainImages/pos-0.pgm')\n",
        "display_image(ipos)"
      ],
      "execution_count": 0,
      "outputs": [
        {
          "output_type": "display_data",
          "data": {
            "image/png": "[encoded data removed]",
            "text/plain": [
              "<Figure size 432x288 with 1 Axes>"
            ]
          },
          "metadata": {
            "tags": []
          }
        }
      ]
    },
    {
      "cell_type": "code",
      "metadata": {
        "id": "JJrv0mFrPo0K",
        "colab_type": "code",
        "outputId": "619455d1-4d3a-465f-f66d-977d50390519",
        "colab": {
          "base_uri": "https://localhost:8080/",
          "height": 34
        }
      },
      "source": [
        "ipos.shape"
      ],
      "execution_count": 0,
      "outputs": [
        {
          "output_type": "execute_result",
          "data": {
            "text/plain": [
              "(40, 100)"
            ]
          },
          "metadata": {
            "tags": []
          },
          "execution_count": 6
        }
      ]
    },
    {
      "cell_type": "markdown",
      "metadata": {
        "id": "z8uvC9dWPo0M",
        "colab_type": "text"
      },
      "source": [
        "##### Primer negativnog uzorka - nije automobil"
      ]
    },
    {
      "cell_type": "code",
      "metadata": {
        "id": "eN2Lgue5Po0N",
        "colab_type": "code",
        "outputId": "fd7308dd-df9b-4511-dbf1-8cbaaef41e59",
        "colab": {
          "base_uri": "https://localhost:8080/",
          "height": 184
        }
      },
      "source": [
        "ineg = load_image('sc-2019-siit/v3-hog/data/CarData/TrainImages/neg-0.pgm')\n",
        "display_image(ineg)"
      ],
      "execution_count": 0,
      "outputs": [
        {
          "output_type": "display_data",
          "data": {
            "image/png": "[encoded data removed]",
            "text/plain": [
              "<Figure size 432x288 with 1 Axes>"
            ]
          },
          "metadata": {
            "tags": []
          }
        }
      ]
    },
    {
      "cell_type": "code",
      "metadata": {
        "id": "MidfQ01pPo0P",
        "colab_type": "code",
        "outputId": "7da16712-61fb-4cda-90f2-9de74e523782",
        "colab": {
          "base_uri": "https://localhost:8080/",
          "height": 34
        }
      },
      "source": [
        "ineg.shape"
      ],
      "execution_count": 0,
      "outputs": [
        {
          "output_type": "execute_result",
          "data": {
            "text/plain": [
              "(40, 100)"
            ]
          },
          "metadata": {
            "tags": []
          },
          "execution_count": 9
        }
      ]
    },
    {
      "cell_type": "markdown",
      "metadata": {
        "id": "2GapknyaPo0R",
        "colab_type": "text"
      },
      "source": [
        "#### Učitavanje svih primera"
      ]
    },
    {
      "cell_type": "code",
      "metadata": {
        "id": "oByTHDISPo0S",
        "colab_type": "code",
        "outputId": "a6e811e2-5592-4911-95df-2490f9de864c",
        "colab": {
          "base_uri": "https://localhost:8080/",
          "height": 51
        }
      },
      "source": [
        "train_dir = 'sc-2019-siit/v3-hog/data/CarData/TrainImages/'\n",
        "\n",
        "pos_imgs = []\n",
        "neg_imgs = []\n",
        "\n",
        "for img_name in os.listdir(train_dir):\n",
        "    img_path = os.path.join(train_dir, img_name)\n",
        "    img = load_image(img_path)\n",
        "    if 'pos' in img_name:\n",
        "        pos_imgs.append(img)\n",
        "    elif 'neg' in img_name:\n",
        "        neg_imgs.append(img)\n",
        "        \n",
        "print(\"Positive images #: \", len(pos_imgs))\n",
        "print(\"Negative images #: \", len(neg_imgs))"
      ],
      "execution_count": 0,
      "outputs": [
        {
          "output_type": "stream",
          "text": [
            "Positive images #:  550\n",
            "Negative images #:  500\n"
          ],
          "name": "stdout"
        }
      ]
    },
    {
      "cell_type": "markdown",
      "metadata": {
        "id": "i6vhUvcLPo0U",
        "colab_type": "text"
      },
      "source": [
        "#### Izračunavanje HOG deskriptora za sve slike i formiranje niza labela (1 = jeste automobil, 0 = nije automobil)"
      ]
    },
    {
      "cell_type": "code",
      "metadata": {
        "id": "c0auikrfPo0U",
        "colab_type": "code",
        "colab": {}
      },
      "source": [
        "pos_features = []\n",
        "neg_features = []\n",
        "labels = []\n",
        "\n",
        "nbins = 9 # broj binova\n",
        "cell_size = (8, 8) # broj piksela po celiji\n",
        "block_size = (3, 3) # broj celija po bloku\n",
        "\n",
        "hog = cv2.HOGDescriptor(_winSize=(img.shape[1] // cell_size[1] * cell_size[1], \n",
        "                                  img.shape[0] // cell_size[0] * cell_size[0]),\n",
        "                        _blockSize=(block_size[1] * cell_size[1],\n",
        "                                    block_size[0] * cell_size[0]),\n",
        "                        _blockStride=(cell_size[1], cell_size[0]),\n",
        "                        _cellSize=(cell_size[1], cell_size[0]),\n",
        "                        _nbins=nbins)\n",
        "\n",
        "for img in pos_imgs:\n",
        "    pos_features.append(hog.compute(img))\n",
        "    labels.append(1)\n",
        "\n",
        "for img in neg_imgs:\n",
        "    neg_features.append(hog.compute(img))\n",
        "    labels.append(0)\n",
        "\n",
        "pos_features = np.array(pos_features)\n",
        "neg_features = np.array(neg_features)\n",
        "x = np.vstack((pos_features, neg_features))\n",
        "y = np.array(labels)"
      ],
      "execution_count": 0,
      "outputs": []
    },
    {
      "cell_type": "markdown",
      "metadata": {
        "id": "ok_vnMX3Po0W",
        "colab_type": "text"
      },
      "source": [
        "#### Podela trening skupa na trening i validacioni "
      ]
    },
    {
      "cell_type": "code",
      "metadata": {
        "id": "1rWfR1M0Po0X",
        "colab_type": "code",
        "outputId": "3fffb8b3-55f1-4c16-936a-344b0e3bec13",
        "colab": {
          "base_uri": "https://localhost:8080/",
          "height": 51
        }
      },
      "source": [
        "x_train, x_test, y_train, y_test = train_test_split(x, y, test_size=0.2, random_state=42)\n",
        "print('Train shape: ', x_train.shape, y_train.shape)\n",
        "print('Test shape: ', x_test.shape, y_test.shape)"
      ],
      "execution_count": 0,
      "outputs": [
        {
          "output_type": "stream",
          "text": [
            "Train shape:  (840, 2430, 1) (840,)\n",
            "Test shape:  (210, 2430, 1) (210,)\n"
          ],
          "name": "stdout"
        }
      ]
    },
    {
      "cell_type": "code",
      "metadata": {
        "id": "LyGqASGXPo0Z",
        "colab_type": "code",
        "colab": {}
      },
      "source": [
        "# transformisemo u oblik pogodan za scikit-learn\n",
        "def reshape_data(input_data):\n",
        "    nsamples, nx, ny = input_data.shape\n",
        "    return input_data.reshape((nsamples, nx*ny))\n",
        "\n",
        "x_train = reshape_data(x_train)\n",
        "x_test = reshape_data(x_test)"
      ],
      "execution_count": 0,
      "outputs": []
    },
    {
      "cell_type": "code",
      "metadata": {
        "id": "0B8Kx82tPo0d",
        "colab_type": "code",
        "outputId": "b5a46dea-a54b-42d1-e56d-7112f8b13706",
        "colab": {
          "base_uri": "https://localhost:8080/",
          "height": 51
        }
      },
      "source": [
        "print('Train shape: ', x_train.shape, y_train.shape)\n",
        "print('Test shape: ', x_test.shape, y_test.shape)"
      ],
      "execution_count": 0,
      "outputs": [
        {
          "output_type": "stream",
          "text": [
            "Train shape:  (840, 2430) (840,)\n",
            "Test shape:  (210, 2430) (210,)\n"
          ],
          "name": "stdout"
        }
      ]
    },
    {
      "cell_type": "markdown",
      "metadata": {
        "id": "MIFe-TXUPo0f",
        "colab_type": "text"
      },
      "source": [
        "#### Obučavanje i validacija SVM klasifikatora"
      ]
    },
    {
      "cell_type": "code",
      "metadata": {
        "id": "WHgXHaeEPo0g",
        "colab_type": "code",
        "outputId": "29052b01-29d4-424a-e9d9-b7a9930e34ec",
        "colab": {
          "base_uri": "https://localhost:8080/",
          "height": 51
        }
      },
      "source": [
        "clf_svm = SVC(kernel='linear', probability=True) \n",
        "clf_svm.fit(x_train, y_train)\n",
        "y_train_pred = clf_svm.predict(x_train)\n",
        "y_test_pred = clf_svm.predict(x_test)\n",
        "print(\"Train accuracy: \", accuracy_score(y_train, y_train_pred))\n",
        "print(\"Validation accuracy: \", accuracy_score(y_test, y_test_pred))"
      ],
      "execution_count": 0,
      "outputs": [
        {
          "output_type": "stream",
          "text": [
            "Train accuracy:  1.0\n",
            "Validation accuracy:  0.9904761904761905\n"
          ],
          "name": "stdout"
        }
      ]
    },
    {
      "cell_type": "markdown",
      "metadata": {
        "id": "BdQSfs-bPo0i",
        "colab_type": "text"
      },
      "source": [
        "#### Obučavanje i validacija KNN klasifikatora"
      ]
    },
    {
      "cell_type": "code",
      "metadata": {
        "id": "bOodO3m3Po0j",
        "colab_type": "code",
        "outputId": "35297654-0dc7-4588-bb8e-8d0260f6abec",
        "colab": {
          "base_uri": "https://localhost:8080/",
          "height": 51
        }
      },
      "source": [
        "clf_knn = KNeighborsClassifier(n_neighbors=10)\n",
        "clf_knn = clf_knn.fit(x_train, y_train)\n",
        "y_train_pred = clf_knn.predict(x_train)\n",
        "y_test_pred = clf_knn.predict(x_test)\n",
        "print(\"Train accuracy: \", accuracy_score(y_train, y_train_pred))\n",
        "print(\"Validation accuracy: \", accuracy_score(y_test, y_test_pred))"
      ],
      "execution_count": 0,
      "outputs": [
        {
          "output_type": "stream",
          "text": [
            "Train accuracy:  0.9892857142857143\n",
            "Validation accuracy:  0.9904761904761905\n"
          ],
          "name": "stdout"
        }
      ]
    },
    {
      "cell_type": "markdown",
      "metadata": {
        "id": "LqrXjwOSPo0l",
        "colab_type": "text"
      },
      "source": [
        "###### Sa oba klasifikatora koja smo isprobali, uvek smo dobili odlične rezultate (99+%). Kako ovo možemo protumačiti?\n",
        "\n",
        "Pa prosto, ispostavlja se da je HOG deskriptor vrlo dobar alat za izdvajanje osobina objekata sa slike, i izgleda da su te izdvojene osobine relevantne prilikom klasifikacije. Odnosno, te osobine na neki reprezentativan način predstavljaju određenu vrstu objekta, što mi onda lako možemo iskoristiti za automatizaciju klasifikacije nekim od algoritama mašinskog učenja. "
      ]
    },
    {
      "cell_type": "markdown",
      "metadata": {
        "id": "HxKfHi9KPo0m",
        "colab_type": "text"
      },
      "source": [
        "### Testiranje"
      ]
    },
    {
      "cell_type": "markdown",
      "metadata": {
        "id": "Aj7jwW0aPo0m",
        "colab_type": "text"
      },
      "source": [
        "Dakle, sada imamo obučen SVM klasifikator koji vrlo precizno može da predvidi da li je nešto automobil ili ne. Međutim, ovaj klasifikator radi isključivo na slikama koje su dimenzija kao u obučavajućem skupu (100 x 40). U testnom skupu su date slike koje su različitih dimenzija (dosta veće od 100 x 40) i na kojima se nalaze automobili. Potrebno je detektovati <b>gde</b> se nalazi automobil na slici. "
      ]
    },
    {
      "cell_type": "markdown",
      "metadata": {
        "id": "iQCQSmMIPo0n",
        "colab_type": "text"
      },
      "source": [
        "#### Primer testne slike"
      ]
    },
    {
      "cell_type": "code",
      "metadata": {
        "id": "8nBIt098Po0o",
        "colab_type": "code",
        "outputId": "353b0221-1995-4e62-bfe2-6480b39b1dd1",
        "colab": {
          "base_uri": "https://localhost:8080/",
          "height": 234
        }
      },
      "source": [
        "itest = load_image('sc-2019-siit/v3-hog/data/CarData/TestImages/test-0.pgm')\n",
        "display_image(itest)"
      ],
      "execution_count": 0,
      "outputs": [
        {
          "output_type": "display_data",
          "data": {
            "image/png": "[encoded data removed]",
            "text/plain": [
              "<Figure size 432x288 with 1 Axes>"
            ]
          },
          "metadata": {
            "tags": []
          }
        }
      ]
    },
    {
      "cell_type": "markdown",
      "metadata": {
        "id": "PE3Wf6f9Po0p",
        "colab_type": "text"
      },
      "source": [
        "Tehnika kojom bi ovo trebalo raditi jeste tzv. klizeći/klizni prozor (eng. <i>sliding window</i>), gde bi se na slici pomerao \"prozor\", veličine 100 x 40 i za svaki prozor se računao HOG deskriptor i zatim klasifikovao (da li je automobil ili ne). Zatim prozor pomerimo za recimo 10 piksela u desno i uradimo istu stvar. Naravno, kada dođemo do kraja reda, vratimo sliku skroz levo na početak i pomerimo je za recimo 10 piksela na dole i tako dalje.\n",
        "\n",
        "Ovim ćemo za sve moguće prozore (dimenzija 100 x 40 i sa pomerajima [10px, 0px], [0px, 10px]) dobiti rezultate klasifikacije.\n",
        "\n",
        "<img src=\"https://github.com/ftn-ai-lab/sc-2019-siit/blob/master/v3-hog/images/test-im-2.png?raw=1\">"
      ]
    },
    {
      "cell_type": "markdown",
      "metadata": {
        "id": "xfWblr1LPo0q",
        "colab_type": "text"
      },
      "source": [
        "Međutim, ovde nastaje problem - relativno je izvesno da ukoliko smo unutar jednog prozora detektovali automobil, da ćemo i u nekom od susednih prozora detektovati isti taj automobil (prosto, translacijom za samo 10 piksela smo dobili vrlo sličnu sliku i samim tim vrlo sličan HOG deskriptor koji je ulaz u SVM klasifikator). Dakle, neophodno je na neki način spojiti više bounding box-ova u jedan koji će biti konačan rezultat. Treba voditi računa i o slikama koje sadrže više od jednog automobila,a koje su prisutne u testnom skupu podataka. \n",
        "\n",
        "Prilikom računanja ovog konačnog bounding box-a može se uzeti u obzir i koliko je SVM siguran (eng. <i>confidence score</i>) u svoju odluku za određeni ulazni podatak - ovu vrednost je moguće dobiti pozivanjem metode <i>predict_proba</i> nad SVM klasifikatorom. Ova metoda vraća verovatnoću ishoda klasifikacije za svaku od klasa. Zbog toga smo u konstruktoru SVM klasifikatora morali staviti <i>probability=True</i>.\n",
        "\n",
        "<img src=\"https://github.com/ftn-ai-lab/sc-2019-siit/blob/master/v3-hog/images/test-im-2-nms.png?raw=1\">"
      ]
    },
    {
      "cell_type": "markdown",
      "metadata": {
        "id": "Q6TnpdaMPo0r",
        "colab_type": "text"
      },
      "source": [
        "Konačni rezultati se mogu proveriti tako što će se uporediti sa lokacijama automobila u <b>data/CarData/trueLocations.txt</b>. U ovoj datoteci, svaka linija počinje sa rednim brojem slike iz testnog foldera, a istinska lokacija automobila na slici je definisana koordinatama gornje leve tačke (oblika: (y,x)) bounding box-a (dato u datoteci), a širina  visina bounding box-a su uvek 100px i 40px, respektivno (kao veličina slika u trening skupu). \n",
        "\n",
        "Dakle, ako u datoteci imamo <i>0: (48, 26)</i>, to znači da se na slici <i>data/CarData/TestImages/test-0.pgm</i> automobil nalazi na lokaciji koja je definisana bounding box-om <i>((48, 26), (48+40, 26+100)) = ((48, 26), (88, 126))</i>. Ako se u datoteci nalazi više koordinata u jednoj liniji, to znači da na toj slici ima više automobila."
      ]
    },
    {
      "cell_type": "markdown",
      "metadata": {
        "id": "Dwmo7vjBPo0t",
        "colab_type": "text"
      },
      "source": [
        "Metrika kojom se meri poklapanje istinskog bounding box-a i dobijenog bounding box-a je <i>Jaccard index</i>, odnosno <i>IoU (Intersection over Union)</i>. Dakle, za dva bounding box-a, pronaći njihov presek i uniju, a zatim prebrojati piksele u preseku i u uniji i na kraju podeliti ova dva broja:\n",
        "\n",
        "$$IoU=\\frac{|A \\cap B|}{|A \\cup B|}$$\n",
        "\n",
        "<img src=\"https://github.com/ftn-ai-lab/sc-2019-siit/blob/master/v3-hog/images/iou_viz.png?raw=1\">"
      ]
    },
    {
      "cell_type": "markdown",
      "metadata": {
        "id": "a2KZ5Nj2Po0u",
        "colab_type": "text"
      },
      "source": [
        "Ukoliko je poklapanje potpuno, vrednost <i>IoU</i> će biti 1, ako poklapanja nema biće 0, u slučaju delimičnog poklapanja biće neka vrednost između 0 i 1. Vrednosti veće od 0.5 (tj. **IoU > 0.5**) se generalno smatraju \"dobrom\" predikcijom.\n",
        "<img src=\"https://github.com/ftn-ai-lab/sc-2019-siit/blob/master/v3-hog/images/iou_examples.png?raw=1\">"
      ]
    },
    {
      "cell_type": "markdown",
      "metadata": {
        "id": "qjP7w4XePo0v",
        "colab_type": "text"
      },
      "source": [
        "### TODO:  \n",
        "\n",
        "* Iskoristiti HOG i SVM za detektovanje automobila na slici iz testnog skupa podataka. \n",
        "\n",
        "#### Hint za implementaciju:  \n",
        "\n",
        "* Implementirati metodu koja će računati HOG deskriptor i <i>confidence score</i> SVM klasifikatora za prosleđeni prozor. \n",
        "* Implementirati metodu koja će \"obilaziti\" sliku pomoću klizećeg/kliznog prozora i \"pronalaziti\" automobile.\n",
        "* Implementirati metodu koja će računati <i>Jaccard index</i> za dva prosleđena bounding box-a."
      ]
    },
    {
      "cell_type": "code",
      "metadata": {
        "id": "ll7qvLT9Po0x",
        "colab_type": "code",
        "colab": {}
      },
      "source": [
        "def classify_window(win):\n",
        "  features = hog.compute(win).reshape(1, -1)\n",
        "  return clf_svm.predict_proba(features)[0][1]"
      ],
      "execution_count": 0,
      "outputs": []
    },
    {
      "cell_type": "code",
      "metadata": {
        "id": "HxLnMCsVPo00",
        "colab_type": "code",
        "colab": {}
      },
      "source": [
        "def process_image(image, step_size, window_size=(100,40)):\n",
        "  best_score = 0\n",
        "  best_window = None\n",
        "  for y in range (0, image.shape[0], step_size):\n",
        "    for x in range (0, image.shape[1], step_size):\n",
        "      this_window = (y, x) #zbog formata rezultata\n",
        "      window = image[y:y+window_size[1], x:x+window_size[0]]\n",
        "      if window.shape == (window_size[1], window_size[0]):\n",
        "        score = classify_window(window)\n",
        "        if score > best_score:\n",
        "          best_score = best_score\n",
        "          best_window = this_window\n",
        "  return best_score, best_window"
      ],
      "execution_count": 0,
      "outputs": []
    },
    {
      "cell_type": "code",
      "metadata": {
        "id": "PxARP3P_Po01",
        "colab_type": "code",
        "colab": {}
      },
      "source": [
        "def jaccard_index(true_box, predicted_box):\n",
        "  y_a = max(true_box[0], predicted_box[0])\n",
        "  x_a = max(true_box[1], predicted_box[1])\n",
        "  y_b = min(true_box[2], predicted_box[2])\n",
        "  x_b = min(true_box[3], predicted_box[3])\n",
        "\n",
        "  inter_area = max(0, x_b - x_a + 1) * max(0, y_b - y_a +1)\n",
        "  true_area = (true_box[3] - true_box[1] + 1) * (true_box[2] - true_box[0] + 1)\n",
        "  pred_area = (predicted_box[3] - predicted_box[1] + 1) * (predicted_box[2] - predicted_box[0] + 1)\n",
        "  retVal = inter_area/ float(true_area + pred_area - inter_area)\n",
        "  return max(retVal, 0)"
      ],
      "execution_count": 0,
      "outputs": []
    },
    {
      "cell_type": "code",
      "metadata": {
        "id": "PP8-3jPLPo03",
        "colab_type": "code",
        "colab": {}
      },
      "source": [
        "score, score_window = process_image(itest, step_size = 10)"
      ],
      "execution_count": 0,
      "outputs": []
    },
    {
      "cell_type": "code",
      "metadata": {
        "id": "ULKUiZQMPo05",
        "colab_type": "code",
        "colab": {}
      },
      "source": [
        "print(score)\n",
        "print(score_window)"
      ],
      "execution_count": 0,
      "outputs": []
    },
    {
      "cell_type": "code",
      "metadata": {
        "id": "rNdT7dP9Po07",
        "colab_type": "code",
        "outputId": "56ad0b57-600e-45b2-880c-6f433908cdbe",
        "colab": {
          "base_uri": "https://localhost:8080/",
          "height": 34
        }
      },
      "source": [
        "jaccard_index([48, 26, 88, 126], [50, 20, 90, 120])"
      ],
      "execution_count": 0,
      "outputs": [
        {
          "output_type": "execute_result",
          "data": {
            "text/plain": [
              "0.8094821935765786"
            ]
          },
          "metadata": {
            "tags": []
          },
          "execution_count": 35
        }
      ]
    },
    {
      "cell_type": "markdown",
      "metadata": {
        "id": "d9ctj10fPo08",
        "colab_type": "text"
      },
      "source": [
        "## Zadaci\n",
        "\n",
        "### Zadatak 1 \n",
        "\n",
        "Proveriti dobijene rezultate sa tačnim lokacijama automobila za sve slike iz testnog skupa. Izračunati uspešnost postupka (broj uspešno detektovanih automobila (IoU > 0.5) podeliti sa ukupnim brojem automobila iz testnog skupa).  \n",
        "Hint za slike koje sadrže više od jednog automobila: **Non-Maximum Suppression**.\n",
        "\n",
        "### Zadatak 2 - Konji\n",
        "\n",
        "U <b>data/HorsesData/</b> se nalazi modifikovan <b>INRIA horse dataset</b> za detekciju konja na slici. Sve slike su u boji, i različitih su dimenzija.\n",
        "\n",
        "Skup podataka je modifikovan tako da:\n",
        "\n",
        "* folder <b>data/HorsesData/neg</b> sadrži 170 slika negativnog uzorka (nije konj).\n",
        "* folder <b>data/HorsesData/pos</b> sadrži 120 slika pozitivnog uzorka (jeste konj) sa pripadajućim <b>groundtruth</b> datotekama sa tačnim bounding box-om konja na slici. \n",
        "* folder <b>data/HorsesData/test</b> sadrži 50 testnih slika sa konjima i pripadajućim <b>groundtruth</b> datotekama.\n",
        "\n",
        "<b>Groundtruth</b> datoteke su imenovane po šablonu: <i><b>imeSlike</b>__entires.groundtruth</i>.  \n",
        "Koordinate rezultujućeg bounding box-a u <b>groundtruth</b> datotekama su date u sledećem formatu:\n",
        "\n",
        "<i>top_left_x  top_left_y  bottom_right_x  bottom_right_y</i>\n",
        "\n",
        "Prilikom testiranja, za poređenje bounding box-ova koristiti <i>Jaccard index</i>. "
      ]
    },
    {
      "cell_type": "code",
      "metadata": {
        "id": "QAtOsFz4Po09",
        "colab_type": "code",
        "colab": {}
      },
      "source": [
        ""
      ],
      "execution_count": 0,
      "outputs": []
    }
  ]
}